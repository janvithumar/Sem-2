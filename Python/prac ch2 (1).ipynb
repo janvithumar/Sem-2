{
 "cells": [
  {
   "cell_type": "markdown",
   "id": "25fb83ee",
   "metadata": {},
   "source": [
    "##### ch:2  Containers"
   ]
  },
  {
   "cell_type": "markdown",
   "id": "467eadb1",
   "metadata": {},
   "source": [
    "->**other then basic data type python provide servel types of Container.**<br>\n",
    "->**contaner can be used of group similar types of objects to gether.**"
   ]
  },
  {
   "cell_type": "markdown",
   "id": "ced7dc1d",
   "metadata": {},
   "source": [
    "<span style='color=green'>1.Sometimes the order of the object is import,math,ssequence {a0,a1,a2}</span><br>\n",
    "<span style='color=green'>2.Sometimes the order is irrlevant as the set('cat','dog','cow')</span>"
   ]
  },
  {
   "cell_type": "markdown",
   "id": "c29f2acc",
   "metadata": {},
   "source": [
    "1.list for lists.<br>\n",
    "2.tuple for tuples<br>\n",
    "3.range for ranges<br>\n",
    "4.dict  for dictionaries<br>\n",
    "5.set for sets"
   ]
  },
  {
   "cell_type": "markdown",
   "id": "ca5b61a4",
   "metadata": {},
   "source": [
    "<span style= 'background:pink'> ***Containers differ in the following ways:-*** </span>| <span style= 'background:yellow'>  </span>"
   ]
  },
  {
   "cell_type": "markdown",
   "id": "6f5e08c7",
   "metadata": {},
   "source": [
    "1.**mutable verus immutable :mutable containers can modified after they have been created;immutable.**<br>\n",
    "2.**ordered versus unorderd:The item in an order container are stored in fixed siqueence:Those is an unorederd container are not**<br>\n",
    "3.**Indexable versus non-indexble :The item in an indxable container can be retrived using key;those non-indexable container cannot**"
   ]
  },
  {
   "cell_type": "markdown",
   "id": "c89b57e6",
   "metadata": {},
   "source": [
    "<span style= 'background:green'> ***List*** </span>| <span style= 'background:yellow'>  </span>"
   ]
  },
  {
   "cell_type": "markdown",
   "id": "ceae782a",
   "metadata": {},
   "source": [
    "1.**List are mutable -one created,elements can be added,replaced or deleted.**<br>\n",
    "2.**A list is an odeerd sequence of objects.**<br>\n",
    "3**A list is a Haterogeneous contaner list element can be of any type and can be differdifferent types within the same list.**"
   ]
  },
  {
   "cell_type": "code",
   "execution_count": 1,
   "id": "e06cf0db",
   "metadata": {},
   "outputs": [
    {
     "data": {
      "text/plain": [
       "list"
      ]
     },
     "execution_count": 1,
     "metadata": {},
     "output_type": "execute_result"
    }
   ],
   "source": [
    "#Two way to create List\n",
    "l1=[]\n",
    "type(l1) #one way use squre brackets to create List                   #List\n",
    "# l2=list[] # second way usin list constrouctor"
   ]
  },
  {
   "cell_type": "code",
   "execution_count": 1,
   "id": "c25d8f70",
   "metadata": {},
   "outputs": [
    {
     "data": {
      "text/plain": [
       "list"
      ]
     },
     "execution_count": 1,
     "metadata": {},
     "output_type": "execute_result"
    }
   ],
   "source": [
    "l3=[1,'j',2.4,True] \n",
    "# l3                                                  \n",
    "# len(l3)\n",
    "# l3  \n",
    "# print(l3)\n",
    "# type(list(l3))\n",
    "type(l3)"
   ]
  },
  {
   "cell_type": "code",
   "execution_count": 3,
   "id": "fae6355d",
   "metadata": {},
   "outputs": [
    {
     "data": {
      "text/plain": [
       "['j', 12.4, True]"
      ]
     },
     "execution_count": 3,
     "metadata": {},
     "output_type": "execute_result"
    }
   ],
   "source": [
    "l4=[2,'j',12.4,True]\n",
    "# l4[1]='10'\n",
    "# l4[4]='extra' #error avse out of index range\n",
    "# l4.append(\"janu\")\n",
    "# l4.insert(2,\"b\")\n",
    "l4.remove(2)\n",
    "l4"
   ]
  },
  {
   "cell_type": "code",
   "execution_count": 3,
   "id": "754ace0f",
   "metadata": {},
   "outputs": [],
   "source": [
    "# l5=[1,2,3,4]\n",
    "\n"
   ]
  },
  {
   "cell_type": "code",
   "execution_count": 12,
   "id": "364f06e4",
   "metadata": {},
   "outputs": [
    {
     "data": {
      "text/plain": [
       "[3, 4.5, 4.5, 7]"
      ]
     },
     "execution_count": 12,
     "metadata": {},
     "output_type": "execute_result"
    }
   ],
   "source": [
    "#all element are string\n",
    "# l4=['a','c','d','v','t']\n",
    "# l4.sort(key = str.lower)\n",
    "# l4\n",
    "# all elements are number\n",
    "l5=[4.5,7,3,4.5] #defalt assendig order\n",
    "l5.sort()\n",
    "l5  \n",
    "# sorted(l5, reverse = True)\n",
    "#l5  #reverse keyword to start in desending order\n",
    "# min(l5)\n"
   ]
  },
  {
   "cell_type": "code",
   "execution_count": 5,
   "id": "468c4753",
   "metadata": {},
   "outputs": [
    {
     "data": {
      "text/plain": [
       "[1, 'j', 2.4, True]"
      ]
     },
     "execution_count": 5,
     "metadata": {},
     "output_type": "execute_result"
    }
   ],
   "source": [
    "l3=[1,'j',2.4,True]\n",
    "# l4=['a','c','d','v','t']\n",
    "# l5= l4 + l3  \n",
    "# l5\n",
    "# l3[:-2]\n",
    " \n",
    "l3\n"
   ]
  },
  {
   "cell_type": "code",
   "execution_count": 24,
   "id": "62c47a7c",
   "metadata": {},
   "outputs": [
    {
     "data": {
      "text/plain": [
       "[1, 'j']"
      ]
     },
     "execution_count": 24,
     "metadata": {},
     "output_type": "execute_result"
    }
   ],
   "source": [
    "l3=[1,'j',2.4,True] \n",
    "#l3[:len(l3)-2]  #13 ?    len(l3) tle 4 and -2 so l3[: 4-2] = 2\n",
    "l3[:2]  "
   ]
  },
  {
   "cell_type": "code",
   "execution_count": 40,
   "id": "424d1144",
   "metadata": {},
   "outputs": [
    {
     "data": {
      "text/plain": [
       "[1, 'j', 2.4, True]"
      ]
     },
     "execution_count": 40,
     "metadata": {},
     "output_type": "execute_result"
    }
   ],
   "source": [
    "#all element are string\n",
    "#l5=['A','K','W','Z','C']\n",
    "# l5.sort(key=str.upper)\n",
    "# l5\n",
    "# ALL ELEMNENT ARE NUMBER\n",
    "l3=[1,'j',2.4,True] \n",
    "l5=[3,1.2,9,8,8.5]\n",
    "# l5.sort()\n",
    "# l5\n",
    "sorted(l5,reverse=True) #the reverse keyword is used to sort in desending order\n",
    "\n",
    "l5=l3[:] \n",
    "l5"
   ]
  },
  {
   "cell_type": "code",
   "execution_count": 38,
   "id": "0c8588d5",
   "metadata": {},
   "outputs": [
    {
     "data": {
      "text/plain": [
       "['Janvi', 'Denisha', 'Shivani']"
      ]
     },
     "execution_count": 38,
     "metadata": {},
     "output_type": "execute_result"
    }
   ],
   "source": [
    "a = ['Janvi','Denisha','Shivani']\n",
    "# b = a.copy()\n",
    "# b  \n"
   ]
  },
  {
   "cell_type": "code",
   "execution_count": 46,
   "id": "23747103",
   "metadata": {},
   "outputs": [
    {
     "data": {
      "text/plain": [
       "'d'"
      ]
     },
     "execution_count": 46,
     "metadata": {},
     "output_type": "execute_result"
    }
   ],
   "source": [
    "l6=[\"a\",\"b\",\"c\",\"d\"]\n",
    "# l6.pop()\n",
    "# l6.pop(2)\n",
    "l6.pop(-1)\n"
   ]
  },
  {
   "cell_type": "markdown",
   "id": "8f0424ff",
   "metadata": {},
   "source": [
    "# Tuple"
   ]
  },
  {
   "cell_type": "markdown",
   "id": "64172c0e",
   "metadata": {},
   "source": [
    "1.**Tuples are containers like lists,with the difference being that they are immutable -once diffiend elements cannot be changed or added.**<br>\n",
    "2.**Tuples are identified by surrounding standard parentheses.<br>**\n",
    "3.**To generate a tuple enclosed sequence of objects (sepreted by commas)in standard parenthesses().**<br>\n",
    "4.**Tuple indexing and slicing works in the same way as for lists and strings.**<br>\n",
    "5.**It is error try to change a tuple element once the tuple has been created.**<br>\n",
    "6.**Tuples are simpler and more efficient then list in terms of memory used and perfomance.**<br>\n",
    "7.**They are often preferred for 'temporary'variables that will not need to be modified.**<br>\n",
    "8.**They can also be use dictionary key,which list cannot.**<br>\n"
   ]
  },
  {
   "cell_type": "code",
   "execution_count": 52,
   "id": "4e0fbf6c",
   "metadata": {},
   "outputs": [
    {
     "ename": "TypeError",
     "evalue": "'tuple' object does not support item assignment",
     "output_type": "error",
     "traceback": [
      "\u001b[1;31m---------------------------------------------------------------------------\u001b[0m",
      "\u001b[1;31mTypeError\u001b[0m                                 Traceback (most recent call last)",
      "\u001b[1;32m<ipython-input-52-3a2215be89d3>\u001b[0m in \u001b[0;36m<module>\u001b[1;34m\u001b[0m\n\u001b[0;32m      6\u001b[0m \u001b[1;31m# t1[2]\u001b[0m\u001b[1;33m\u001b[0m\u001b[1;33m\u001b[0m\u001b[1;33m\u001b[0m\u001b[0m\n\u001b[0;32m      7\u001b[0m \u001b[1;31m# t1[1:]\u001b[0m\u001b[1;33m\u001b[0m\u001b[1;33m\u001b[0m\u001b[1;33m\u001b[0m\u001b[0m\n\u001b[1;32m----> 8\u001b[1;33m \u001b[0mt1\u001b[0m\u001b[1;33m[\u001b[0m\u001b[1;36m2\u001b[0m\u001b[1;33m]\u001b[0m\u001b[1;33m=\u001b[0m\u001b[1;36m4\u001b[0m\u001b[1;33m\u001b[0m\u001b[1;33m\u001b[0m\u001b[0m\n\u001b[0m",
      "\u001b[1;31mTypeError\u001b[0m: 'tuple' object does not support item assignment"
     ]
    }
   ],
   "source": [
    "#create tuple\n",
    "t1=('a',12,2.5,True)\n",
    "# t1\n",
    "# print(t1)\n",
    "# type(t1)\n",
    "# t1[2]\n",
    "# t1[1:]\n",
    "t1[2]=4         # ha immutable mean k 1var declare karya pachi change na thay "
   ]
  },
  {
   "cell_type": "markdown",
   "id": "cbd0f90e",
   "metadata": {},
   "source": [
    "___Any Comma -separated sequen ce of values defines a tuple.which can be used to assign values to multiple variables at a time.___"
   ]
  },
  {
   "cell_type": "code",
   "execution_count": 63,
   "id": "d4c12ee5",
   "metadata": {},
   "outputs": [
    {
     "name": "stdout",
     "output_type": "stream",
     "text": [
      "True\n"
     ]
    }
   ],
   "source": [
    "t2=1,2,5,'k'\n",
    "t1=('a',12,2.5,True)\n",
    "# x,y=12,13\n",
    "x=12,13\n",
    "# type(t2)\n",
    "# print(x,y)\n",
    "type(x)\n",
    "# t2.index(\"k\")#A tuple is an orderd like list,so you can get its values refercing an index value.\n",
    "# t3=t1+t2#create anew tuple\n",
    "# t3\n",
    "# t3=t2*2#repeat a number of a times\n",
    "# t3\n",
    "print('k' in t2)  #in operator \n"
   ]
  },
  {
   "cell_type": "code",
   "execution_count": 68,
   "id": "20b38fab",
   "metadata": {},
   "outputs": [
    {
     "data": {
      "text/plain": [
       "(1, 1, 7, 25)"
      ]
     },
     "execution_count": 68,
     "metadata": {},
     "output_type": "execute_result"
    }
   ],
   "source": [
    "# l1=[1,1]\n",
    "# type(l1)\n",
    "l1=(1,1)\n",
    "type(l1)\n",
    "l11 = 1,1,7,25\n",
    "l11  "
   ]
  },
  {
   "cell_type": "markdown",
   "id": "fe272228",
   "metadata": {},
   "source": [
    "# Sets"
   ]
  },
  {
   "cell_type": "markdown",
   "id": "720c02ba",
   "metadata": {},
   "source": [
    "1.**Sets are containers with same meaning they do it mathmatics.**<br>\n",
    "2.**unorderd collection of item with no duplicates.**<br>\n",
    "3.**sets are identified by Surrounding curly brackets.**<br>\n",
    "4.**To generate a list enclosed a sequence of object (sepreted by commas )in curly brackets.**<br>\n",
    "5.**Duplicates will be remove for creating exisiting sets.**<br>\n",
    "6.**sets can be used insted of list when we know that each element is unique and immutable (unchanging).**<br>\n",
    "7.**immutable version of set called frozenset.**<br>"
   ]
  },
  {
   "cell_type": "markdown",
   "id": "2e18266e",
   "metadata": {},
   "source": [
    "___sets are created using curly breaket___"
   ]
  },
  {
   "cell_type": "code",
   "execution_count": 74,
   "id": "6980d66b",
   "metadata": {},
   "outputs": [
    {
     "data": {
      "text/plain": [
       "set"
      ]
     },
     "execution_count": 74,
     "metadata": {},
     "output_type": "execute_result"
    }
   ],
   "source": [
    "# set create\n",
    "# s={1,'a',2}\n",
    "# s\n",
    "# type(s)\n",
    "s1=set([\"11\",3,\"33\",3])\n",
    "# s1\n",
    "type(s1)"
   ]
  },
  {
   "cell_type": "code",
   "execution_count": 79,
   "id": "e03467e6",
   "metadata": {},
   "outputs": [
    {
     "data": {
      "text/plain": [
       "dict"
      ]
     },
     "execution_count": 79,
     "metadata": {},
     "output_type": "execute_result"
    }
   ],
   "source": [
    "#empty set\n",
    "# s3=set([])\n",
    "s3={}\n",
    "type(s3)"
   ]
  },
  {
   "cell_type": "markdown",
   "id": "507a57de",
   "metadata": {},
   "source": [
    "**Standard mathametical operations for sets are all built in python**"
   ]
  },
  {
   "cell_type": "code",
   "execution_count": 1,
   "id": "5a834127",
   "metadata": {},
   "outputs": [
    {
     "data": {
      "text/plain": [
       "{'cat2', 'dog1'}"
      ]
     },
     "execution_count": 1,
     "metadata": {},
     "output_type": "execute_result"
    }
   ],
   "source": [
    "aa1={'cat','dog','cow'}\n",
    "aa2={0,2,4,6,8}\n",
    "aa3={1,2,3,4,5}\n",
    "aa4={'cat2','dog1','dog'}\n",
    "aa1 | aa2  #union ha done yes\n",
    "aa2 | aa3\n",
    "aa1 | aa4\n",
    "aa1 & aa4 #intigration \n",
    "'dog' in aa1\n",
    "aa1 & aa2\n",
    "# emty km ke ky j comman ny\n",
    "aa4 - aa1  "
   ]
  },
  {
   "cell_type": "code",
   "execution_count": 2,
   "id": "610dc3c6",
   "metadata": {},
   "outputs": [],
   "source": [
    "team_Janvi = {'Janvi','shree','shivali'}\n",
    "team_shree = {'shree','ABCD','XYZ'}\n"
   ]
  },
  {
   "cell_type": "markdown",
   "id": "8abbd8ce",
   "metadata": {},
   "source": [
    "# Dictonary"
   ]
  },
  {
   "cell_type": "markdown",
   "id": "6ede512b",
   "metadata": {},
   "source": [
    "->**Dictionaries are Containers where items are accessed by a key**<br>\n",
    "->**This make them different from sequence type objects such as strings,list,and tuples ehere item are accessed by position.**\n"
   ]
  },
  {
   "cell_type": "markdown",
   "id": "0bab2b91",
   "metadata": {},
   "source": [
    "<span style='color: green'>1.To generate a dictionary enclosed a sequence of key:value pairs(sepreted by commas)in curly brackets.</span><br>\n",
    "<span style='color: green'>2.The key can be any immutable object-a number,string or tuple.</span><br>\n",
    "<span style='color: green'>3.new dictionary elements can be added and exiting once can be changed by using assignment statement.</span><br>\n",
    "<span style='color: green'>4.order is not preserved in a dictionary so printing a dictionary will not necessarilly prints item in the same order that they were added</span><br>"
   ]
  },
  {
   "cell_type": "code",
   "execution_count": 1,
   "id": "681e4673",
   "metadata": {},
   "outputs": [
    {
     "data": {
      "text/plain": [
       "{1: 'sunday', 2: 'monday', 3: 'thuesday'}"
      ]
     },
     "execution_count": 1,
     "metadata": {},
     "output_type": "execute_result"
    }
   ],
   "source": [
    "#create Dictionary                     #note the colon in the key:value pairs.\n",
    "d1={1:'sunday',2:'monday',3:'thuesday'} #Creating and empty dict.\n",
    "d1                                      #another way to create and empty dictionary."
   ]
  },
  {
   "cell_type": "code",
   "execution_count": 8,
   "id": "452f6489",
   "metadata": {},
   "outputs": [],
   "source": [
    "# d11={}                                       #Creating and empty dict.\n",
    "# d12=dict()                                      #another way to create and empty dictionary."
   ]
  },
  {
   "cell_type": "code",
   "execution_count": 7,
   "id": "8188987d",
   "metadata": {},
   "outputs": [
    {
     "data": {
      "text/plain": [
       "dict"
      ]
     },
     "execution_count": 7,
     "metadata": {},
     "output_type": "execute_result"
    }
   ],
   "source": [
    "type(d11)"
   ]
  },
  {
   "cell_type": "code",
   "execution_count": 8,
   "id": "e1718018",
   "metadata": {},
   "outputs": [
    {
     "data": {
      "text/plain": [
       "'sunday'"
      ]
     },
     "execution_count": 8,
     "metadata": {},
     "output_type": "execute_result"
    }
   ],
   "source": [
    "d1[1]                          #Dictonary values are acced using the keys."
   ]
  },
  {
   "cell_type": "code",
   "execution_count": 10,
   "id": "1e06dc37",
   "metadata": {},
   "outputs": [
    {
     "data": {
      "text/plain": [
       "{1: 'sunday', 2: 'monday', 3: 'Tuesday'}"
      ]
     },
     "execution_count": 10,
     "metadata": {},
     "output_type": "execute_result"
    }
   ],
   "source": [
    "#Dictionary values can be change/update using the \"=\" assignment operator\n",
    "d1[3]='Tuesday'\n",
    "d1"
   ]
  },
  {
   "cell_type": "code",
   "execution_count": 12,
   "id": "5e414c1c",
   "metadata": {},
   "outputs": [
    {
     "data": {
      "text/plain": [
       "{1: 'sunday', 2: 'monday', 3: 'Tuesday', 7: 'Saturaday'}"
      ]
     },
     "execution_count": 12,
     "metadata": {},
     "output_type": "execute_result"
    }
   ],
   "source": [
    "# New key:values pairs (Adding new items)can be assigned using the\"=\"assignment operator.\n",
    "d1[7]='Saturaday'\n",
    "d1"
   ]
  },
  {
   "cell_type": "code",
   "execution_count": 14,
   "id": "3ffc3cda",
   "metadata": {},
   "outputs": [
    {
     "data": {
      "text/plain": [
       "'holiday'"
      ]
     },
     "execution_count": 14,
     "metadata": {},
     "output_type": "execute_result"
    }
   ],
   "source": [
    "# d1.get(7)#get return value for key if key is wrong or does not exists get does not return\n",
    "d1.get(8,'holiday')"
   ]
  },
  {
   "cell_type": "code",
   "execution_count": 15,
   "id": "881b1a11",
   "metadata": {},
   "outputs": [
    {
     "data": {
      "text/plain": [
       "{65: 'a', 66: 'B', 67: 'c', 68: 'D', 69: 'E'}"
      ]
     },
     "execution_count": 15,
     "metadata": {},
     "output_type": "execute_result"
    }
   ],
   "source": [
    "# Remove item\n",
    "nd={65:'a',66:'B',67:'c',68:'D',69:'E'}\n",
    "nd"
   ]
  },
  {
   "cell_type": "code",
   "execution_count": 16,
   "id": "b727dba3",
   "metadata": {},
   "outputs": [
    {
     "data": {
      "text/plain": [
       "{65: 'a', 66: 'B', 68: 'D', 69: 'E'}"
      ]
     },
     "execution_count": 16,
     "metadata": {},
     "output_type": "execute_result"
    }
   ],
   "source": [
    "#pop()and popitem()function to remove item for dic\n",
    "nd.pop(67)\n",
    "nd"
   ]
  },
  {
   "cell_type": "code",
   "execution_count": 17,
   "id": "fc6be4dd",
   "metadata": {},
   "outputs": [
    {
     "data": {
      "text/plain": [
       "(69, 'E')"
      ]
     },
     "execution_count": 17,
     "metadata": {},
     "output_type": "execute_result"
    }
   ],
   "source": [
    "#Remove and arbitary item,return(key,value)#last item\n",
    "# nd.popitem()aa first time pop kri to last delet thyu second var "
   ]
  },
  {
   "cell_type": "code",
   "execution_count": 19,
   "id": "f5e4445f",
   "metadata": {},
   "outputs": [
    {
     "data": {
      "text/plain": [
       "(68, 'D')"
      ]
     },
     "execution_count": 19,
     "metadata": {},
     "output_type": "execute_result"
    }
   ],
   "source": [
    "nd.popitem()#jayare biji var run krsu tyare ena pachi no delet thase "
   ]
  },
  {
   "cell_type": "code",
   "execution_count": 20,
   "id": "b9d6d7a7",
   "metadata": {},
   "outputs": [
    {
     "data": {
      "text/plain": [
       "{}"
      ]
     },
     "execution_count": 20,
     "metadata": {},
     "output_type": "execute_result"
    }
   ],
   "source": [
    "#Remove item\n",
    "nd.clear()\n",
    "nd"
   ]
  },
  {
   "cell_type": "code",
   "execution_count": 22,
   "id": "9e4e459b",
   "metadata": {},
   "outputs": [
    {
     "ename": "SyntaxError",
     "evalue": "invalid syntax (<ipython-input-22-76bc5aa5cdf0>, line 1)",
     "output_type": "error",
     "traceback": [
      "\u001b[1;36m  File \u001b[1;32m\"<ipython-input-22-76bc5aa5cdf0>\"\u001b[1;36m, line \u001b[1;32m1\u001b[0m\n\u001b[1;33m    delet nd\u001b[0m\n\u001b[1;37m          ^\u001b[0m\n\u001b[1;31mSyntaxError\u001b[0m\u001b[1;31m:\u001b[0m invalid syntax\n"
     ]
    }
   ],
   "source": [
    "del nd"
   ]
  },
  {
   "cell_type": "markdown",
   "id": "7478e66a",
   "metadata": {},
   "source": [
    "___Dictionary method___\n",
    "->Fromkey (seq[v,v])Returns a new dictionary with a keys from seq and value equal to v(Default to none)"
   ]
  },
  {
   "cell_type": "code",
   "execution_count": 4,
   "id": "207515b9",
   "metadata": {},
   "outputs": [
    {
     "data": {
      "text/plain": [
       "{1: 'Rajkot', 2: 'Rajkot', 3: 'Rajkot'}"
      ]
     },
     "execution_count": 4,
     "metadata": {},
     "output_type": "execute_result"
    }
   ],
   "source": [
    "# Fromkey  \n",
    "s1 = {}.fromkeys([1,2,3],'Rajkot')\n",
    "s1\n"
   ]
  },
  {
   "cell_type": "code",
   "execution_count": 5,
   "id": "fd66498f",
   "metadata": {},
   "outputs": [
    {
     "name": "stdout",
     "output_type": "stream",
     "text": [
      "dict_items([(1, 'Rajkot'), (2, 'Rajkot'), (3, 'Rajkot')])\n"
     ]
    }
   ],
   "source": [
    "print(s1.items())#items()returns a new object of thr dictionarys item in(key,value)formet\n",
    "#dict ni key and value ok done"
   ]
  },
  {
   "cell_type": "code",
   "execution_count": 6,
   "id": "76a17dea",
   "metadata": {},
   "outputs": [
    {
     "name": "stdout",
     "output_type": "stream",
     "text": [
      "{1: 'Rajkot', 2: 'Rajkot', 3: 'Rajkot'}\n"
     ]
    }
   ],
   "source": [
    "print(s1)"
   ]
  },
  {
   "cell_type": "code",
   "execution_count": 13,
   "id": "7d36b459",
   "metadata": {},
   "outputs": [
    {
     "data": {
      "text/plain": [
       "dict_keys([1, 2, 3, 4, 'name'])"
      ]
     },
     "execution_count": 13,
     "metadata": {},
     "output_type": "execute_result"
    }
   ],
   "source": [
    "s2 = {\n",
    "    1 : \"janvi\",            #Return a new obeject of the dictionary keys\n",
    "    2 : \"Denki\",\n",
    "    3 : \"SHARDdHA\",\n",
    "    4 : \"krishna\",\n",
    "    \"name\" : \"janvi 2\"\n",
    "}\n",
    "s2.keys()  "
   ]
  },
  {
   "cell_type": "code",
   "execution_count": 12,
   "id": "a7f5c7b5",
   "metadata": {},
   "outputs": [
    {
     "data": {
      "text/plain": [
       "'Denki'"
      ]
     },
     "execution_count": 12,
     "metadata": {},
     "output_type": "execute_result"
    }
   ],
   "source": [
    "s2.pop(2)  "
   ]
  },
  {
   "cell_type": "markdown",
   "id": "7ab3b87a",
   "metadata": {},
   "source": [
    "___pyhon Dictionary comparision___"
   ]
  },
  {
   "cell_type": "markdown",
   "id": "39ded97d",
   "metadata": {},
   "source": [
    "<span style='font-family:font_family name'> 1.Dictionary compression is an elegant  and concise way to create  a new dictionary from an itrable in paython  </span>\n",
    "<span style='font-family:font_family name'> 2.Dictionary comaression consists of an Expreesion pair(key:value)followed by a for statement inside curly bracketls{}  </span>\n"
   ]
  },
  {
   "cell_type": "code",
   "execution_count": 14,
   "id": "9d933008",
   "metadata": {},
   "outputs": [
    {
     "data": {
      "text/plain": [
       "range(0, 5)"
      ]
     },
     "execution_count": 14,
     "metadata": {},
     "output_type": "execute_result"
    }
   ],
   "source": [
    "range(5)"
   ]
  },
  {
   "cell_type": "code",
   "execution_count": 15,
   "id": "2ea3e401",
   "metadata": {},
   "outputs": [
    {
     "data": {
      "text/plain": [
       "range(0, 5)"
      ]
     },
     "execution_count": 15,
     "metadata": {},
     "output_type": "execute_result"
    }
   ],
   "source": [
    "x = range(5)\n",
    "x #ani limit mean starting and ending "
   ]
  },
  {
   "cell_type": "code",
   "execution_count": 3,
   "id": "156866e5",
   "metadata": {},
   "outputs": [
    {
     "name": "stdout",
     "output_type": "stream",
     "text": [
      "{0: 0, 1: 1, 2: 4, 3: 9, 4: 16, 5: 25}\n"
     ]
    }
   ],
   "source": [
    "#Example to make a dictionary with each item being a pair of a number and its squre.\n",
    "#Dictionary Compression\n",
    "squares={x:x*x for x in range(6)}\n",
    "print(squares )"
   ]
  },
  {
   "cell_type": "code",
   "execution_count": 17,
   "id": "3a2f760a",
   "metadata": {},
   "outputs": [
    {
     "data": {
      "text/plain": [
       "{2: 4, 3: 9, 4: 16}"
      ]
     },
     "execution_count": 17,
     "metadata": {},
     "output_type": "execute_result"
    }
   ],
   "source": [
    "s = {x : x * x for x in range(2,5)}\n",
    "s"
   ]
  },
  {
   "cell_type": "code",
   "execution_count": 18,
   "id": "3a9e5b9c",
   "metadata": {},
   "outputs": [
    {
     "name": "stdout",
     "output_type": "stream",
     "text": [
      "{0: 0, 1: 1, 2: 4, 3: 9, 4: 16}\n"
     ]
    }
   ],
   "source": [
    "square = {}\n",
    "for x in range(5):\n",
    "    square[x] = x * x\n",
    "print(square)\n",
    "    "
   ]
  },
  {
   "cell_type": "code",
   "execution_count": 19,
   "id": "04f2f661",
   "metadata": {},
   "outputs": [
    {
     "data": {
      "text/plain": [
       "{0: 0, 2: 4, 4: 16}"
      ]
     },
     "execution_count": 19,
     "metadata": {},
     "output_type": "execute_result"
    }
   ],
   "source": [
    "s3 = {x :x * x for x in range(5) if x%2 == 0}\n",
    "s3"
   ]
  },
  {
   "cell_type": "code",
   "execution_count": 25,
   "id": "882e98f4",
   "metadata": {},
   "outputs": [
    {
     "name": "stdout",
     "output_type": "stream",
     "text": [
      "0\n",
      "2\n",
      "4\n"
     ]
    }
   ],
   "source": [
    "square = {}\n",
    "for x in range(5):\n",
    "    square[x] = x * x\n",
    "    if square[x] % 2==0:\n",
    "        print(x)\n",
    "    "
   ]
  },
  {
   "cell_type": "markdown",
   "id": "20b6adbd",
   "metadata": {},
   "source": [
    "1.A Dictionary Comression can optionally contain more for if statements<br>\n",
    "2.An optional if statement can filter out item to fromthe new dictionary"
   ]
  },
  {
   "cell_type": "code",
   "execution_count": 4,
   "id": "e6fdac07",
   "metadata": {},
   "outputs": [
    {
     "data": {
      "text/plain": [
       "{0: 0, 2: 4, 4: 16, 6: 36, 8: 64}"
      ]
     },
     "execution_count": 4,
     "metadata": {},
     "output_type": "execute_result"
    }
   ],
   "source": [
    "even_squares={x:x*x for x in range(10)if x%2 !=1} \n",
    "even_squares\n",
    "\n"
   ]
  },
  {
   "cell_type": "code",
   "execution_count": 1,
   "id": "e3938600",
   "metadata": {},
   "outputs": [
    {
     "name": "stdout",
     "output_type": "stream",
     "text": [
      "True\n"
     ]
    }
   ],
   "source": [
    "# dictionary memarship test using 'in' keyword 'in'is known as membership operator\n",
    "even_squares={x:x*x for x in range(10)if x%2 !=1} \n",
    "print(2 in even_squares)  "
   ]
  }
 ],
 "metadata": {
  "kernelspec": {
   "display_name": "Python 3",
   "language": "python",
   "name": "python3"
  },
  "language_info": {
   "codemirror_mode": {
    "name": "ipython",
    "version": 3
   },
   "file_extension": ".py",
   "mimetype": "text/x-python",
   "name": "python",
   "nbconvert_exporter": "python",
   "pygments_lexer": "ipython3",
   "version": "3.9.4"
  }
 },
 "nbformat": 4,
 "nbformat_minor": 5
}
