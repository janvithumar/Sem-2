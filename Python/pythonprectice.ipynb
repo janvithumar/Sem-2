{
 "cells": [
  {
   "cell_type": "markdown",
   "id": "7a93edc3",
   "metadata": {},
   "source": [
    "# PYTHON DEMO"
   ]
  },
  {
   "cell_type": "code",
   "execution_count": 5,
   "id": "f0c1c263",
   "metadata": {},
   "outputs": [
    {
     "name": "stdout",
     "output_type": "stream",
     "text": [
      "hello world by python\n"
     ]
    }
   ],
   "source": [
    "print(\"hello world by python\")"
   ]
  },
  {
   "cell_type": "code",
   "execution_count": 8,
   "id": "00a36b83",
   "metadata": {},
   "outputs": [
    {
     "name": "stdout",
     "output_type": "stream",
     "text": [
      "Twinkle, twinkle, little star,\n",
      "How I wonder what you are!\n",
      "Up above the world so high,\n",
      "Like a diamond in the sky.\n"
     ]
    }
   ],
   "source": [
    "print('''Twinkle, twinkle, little star,\n",
    "How I wonder what you are!\n",
    "Up above the world so high,\n",
    "Like a diamond in the sky.''')                         #above line\n"
   ]
  },
  {
   "cell_type": "code",
   "execution_count": 2,
   "id": "bda5245b",
   "metadata": {},
   "outputs": [
    {
     "name": "stdout",
     "output_type": "stream",
     "text": [
      "a\n"
     ]
    }
   ],
   "source": [
    " hellooooooooooooo"
   ]
  },
  {
   "cell_type": "code",
   "execution_count": 11,
   "id": "9b186427",
   "metadata": {},
   "outputs": [
    {
     "name": "stdout",
     "output_type": "stream",
     "text": [
      "50\n",
      "50\n",
      "50\n"
     ]
    }
   ],
   "source": [
    "a=b=c=50\n",
    "print(a)\n",
    "print(b)\n",
    "print(c)                                #single value to multiple varibles"
   ]
  },
  {
   "cell_type": "code",
   "execution_count": 12,
   "id": "6c8afc97",
   "metadata": {},
   "outputs": [
    {
     "name": "stdout",
     "output_type": "stream",
     "text": [
      "50\n",
      "60\n",
      "10\n"
     ]
    }
   ],
   "source": [
    "a,b,c=50,60,10\n",
    "print(a)\n",
    "print(b)\n",
    "print(c)                          #multiple values to multiple variable"
   ]
  },
  {
   "cell_type": "code",
   "execution_count": 32,
   "id": "318ca373",
   "metadata": {},
   "outputs": [
    {
     "name": "stdout",
     "output_type": "stream",
     "text": [
      "the value of 45+88 133\n",
      "the value of 45-88 -43\n",
      "the value of 45*88 3960\n",
      "the value of 45/88 0.5113636363636364\n",
      "22.0\n",
      "True\n",
      "The value of bool1 and bool2 is False\n",
      "The value of bool1 or bool2 is True\n",
      "The value of not bool2 is True\n"
     ]
    }
   ],
   "source": [
    "a=45\n",
    "b=88\n",
    "     #Arithmatic\n",
    "    \n",
    "print(\"the value of 45+88\",45+88)\n",
    "print(\"the value of 45-88\",45-88)\n",
    "print(\"the value of 45*88\",45*88)\n",
    "print(\"the value of 45/88\",45/88)\n",
    "          #asignment operator\n",
    "a = 34\n",
    "a -= 12\n",
    "a *= 12\n",
    "a /= 12\n",
    "print(a)\n",
    "         # Comparison Operators\n",
    "# b = (14<=7)\n",
    "# b = (14>=7)\n",
    "# b = (14<7)\n",
    "# b = (14>7)\n",
    "# b = (14==7)\n",
    "b = (14!=7)\n",
    "print(b)\n",
    "\n",
    "           # Logical Operators\n",
    "bool1 = True\n",
    "bool2 = False\n",
    "print(\"The value of bool1 and bool2 is\", (bool1 and bool2))\n",
    "print(\"The value of bool1 or bool2 is\", (bool1 or bool2))\n",
    "print(\"The value of not bool2 is\", (not bool2))"
   ]
  },
  {
   "cell_type": "code",
   "execution_count": 13,
   "id": "b7ee34ae",
   "metadata": {},
   "outputs": [
    {
     "name": "stdout",
     "output_type": "stream",
     "text": [
      "<class 'int'>\n",
      "1238335483\n"
     ]
    }
   ],
   "source": [
    "a=\"1238335483\"\n",
    "a=int(a)\n",
    "print(type(a))                                \n",
    "print(a)                                           #typecasting\n"
   ]
  },
  {
   "cell_type": "code",
   "execution_count": 39,
   "id": "cdee9a0d",
   "metadata": {},
   "outputs": [
    {
     "name": "stdout",
     "output_type": "stream",
     "text": [
      "Enter your number9825603345\n",
      "9825603345\n"
     ]
    }
   ],
   "source": [
    "a=input(\"Enter your number\")\n",
    "a=int(a)\n",
    "print(a)"
   ]
  },
  {
   "cell_type": "code",
   "execution_count": 40,
   "id": "aad677f8",
   "metadata": {},
   "outputs": [
    {
     "name": "stdout",
     "output_type": "stream",
     "text": [
      "enter your first no:30\n",
      "enter your second no:20\n",
      "The average of a and b is 25.0\n"
     ]
    }
   ],
   "source": [
    "a=input(\"enter your first no:\")\n",
    "b=input(\"enter your second no:\")\n",
    "a=int(a)\n",
    "b=int(b)\n",
    "avg = (a + b)/2                                                   #avg\n",
    "print(\"The average of a and b is\", avg)"
   ]
  },
  {
   "cell_type": "markdown",
   "id": "bfdbfec4",
   "metadata": {},
   "source": [
    "# Data types"
   ]
  },
  {
   "cell_type": "code",
   "execution_count": 14,
   "id": "247cae78",
   "metadata": {},
   "outputs": [
    {
     "name": "stdout",
     "output_type": "stream",
     "text": [
      "type[10]\n",
      "type['hi janu']\n",
      "type[10.5]\n"
     ]
    }
   ],
   "source": [
    "a=10\n",
    "b=\"hi janu\"\n",
    "c=10.5\n",
    "\n",
    "print(type[a])\n",
    "print(type[b])\n",
    "print(type[c])"
   ]
  },
  {
   "cell_type": "markdown",
   "id": "5502dc6b",
   "metadata": {},
   "source": [
    "# Standard data type"
   ]
  },
  {
   "cell_type": "code",
   "execution_count": 16,
   "id": "1a4a7e41",
   "metadata": {},
   "outputs": [
    {
     "name": "stdout",
     "output_type": "stream",
     "text": [
      "3\n",
      "434356\n",
      "13.5\n"
     ]
    }
   ],
   "source": [
    "a=3\n",
    "b=434356\n",
    "d=13.5\n",
    "print(a)\n",
    "print(b)\n",
    "print(d)                                                               #numbers"
   ]
  },
  {
   "cell_type": "code",
   "execution_count": 18,
   "id": "300ddc87",
   "metadata": {},
   "outputs": [
    {
     "name": "stdout",
     "output_type": "stream",
     "text": [
      "he\n",
      "hello good mornin\n",
      "how are you\n",
      "hello good morninghello good morninghello good morning\n",
      "hello good morninghow are you\n"
     ]
    }
   ],
   "source": [
    "str1=\"hello good morning\"\n",
    "str2=\"how are you\"\n",
    "\n",
    "print(str1[0:2])\n",
    "print(str1[0:-1])\n",
    "print(str2)\n",
    "print(str1*3)\n",
    "print(str1+str2)                                                  #String"
   ]
  },
  {
   "cell_type": "code",
   "execution_count": 46,
   "id": "f2699b05",
   "metadata": {},
   "outputs": [
    {
     "name": "stdout",
     "output_type": "stream",
     "text": [
      "55\n",
      "True\n",
      "2\n",
      "Yash is topper he will score 8+ cgpa and then i wake up\n",
      "18\n",
      "yash1 is Topper He will score 8+ cgpa And then i wake up\n"
     ]
    }
   ],
   "source": [
    "story=\"yash is Topper He will score 8+ cgpa And then i wake up\"\n",
    "\n",
    "print(len(story))\n",
    "print(story.endswith(\"up\")) \n",
    "print(story.count(\"c\"))\n",
    "print(story.capitalize())\n",
    "print(story.find(\"will\"))                                            #string function\n",
    "print(story.replace(\"yash\",\"yash1\"))"
   ]
  },
  {
   "cell_type": "code",
   "execution_count": 1,
   "id": "fd20153b",
   "metadata": {},
   "outputs": [
    {
     "name": "stdout",
     "output_type": "stream",
     "text": [
      "Enter yor name:janu\n",
      "good morning ,janu\n"
     ]
    }
   ],
   "source": [
    "name=input(\"Enter yor name:\")\n",
    "print(\"good morning ,\" +name)"
   ]
  },
  {
   "cell_type": "code",
   "execution_count": 2,
   "id": "9bc6307e",
   "metadata": {},
   "outputs": [
    {
     "name": "stdout",
     "output_type": "stream",
     "text": [
      "[3]\n",
      "['hi', 'hello', 3]\n",
      "[98, 'hello', 3]\n"
     ]
    }
   ],
   "source": [
    "janu=[\"hi\",\"hello\",3]\n",
    "print(janu[2:])\n",
    "print(janu[0:3])\n",
    "janu[0] = 98 \n",
    "print(janu)                                                 #list\n"
   ]
  },
  {
   "cell_type": "code",
   "execution_count": 19,
   "id": "d465383f",
   "metadata": {},
   "outputs": [
    {
     "name": "stdout",
     "output_type": "stream",
     "text": [
      "[1, 8, 7, 2, 21, 15]\n",
      "[1, 2, 7, 8, 15, 21]\n",
      "[21, 15, 8, 7, 2, 1]\n",
      "[21, 15, 8, 7, 2, 1, 45]\n",
      "[21, 15, 14, 8, 7, 2, 1, 45]\n"
     ]
    }
   ],
   "source": [
    "l1 = [1, 8, 7, 2, 21, 15]\n",
    "print(l1)\n",
    "l1.sort()\n",
    "print(l1)\n",
    "l1.reverse()\n",
    "print(l1)\n",
    "l1.append(45)\n",
    "print(l1)\n",
    "l1.insert(2,14)\n",
    "print(l1)\n",
    "#li.pop()\n",
    "#li.remove()                                               #list method\n",
    "\n"
   ]
  },
  {
   "cell_type": "code",
   "execution_count": 21,
   "id": "122e7dff",
   "metadata": {},
   "outputs": [
    {
     "name": "stdout",
     "output_type": "stream",
     "text": [
      "Enter Marks for Student Number 1: 11\n",
      "Enter Marks for Student Number 2: 22\n",
      "Enter Marks for Student Number 3: 33\n",
      "Enter Marks for Student Number 4: 44\n",
      "Enter Marks for Student Number 5: 556\n",
      "Enter Marks for Student Number 6: 66\n",
      "[11, 22, 33, 44, 66, 556]\n"
     ]
    }
   ],
   "source": [
    "m1 = int(input(\"Enter Marks for Student Number 1: \"))\n",
    "m2 = int(input(\"Enter Marks for Student Number 2: \"))\n",
    "m3 = int(input(\"Enter Marks for Student Number 3: \"))\n",
    "m4 = int(input(\"Enter Marks for Student Number 4: \"))\n",
    "m5 = int(input(\"Enter Marks for Student Number 5: \"))\n",
    "m6 = int(input(\"Enter Marks for Student Number 6: \"))\n",
    "\n",
    "myList = [m1, m2, m3, m4, m5, m6]\n",
    "myList.sort()\n",
    "print(myList)"
   ]
  },
  {
   "cell_type": "code",
   "execution_count": 23,
   "id": "44e06987",
   "metadata": {},
   "outputs": [
    {
     "name": "stdout",
     "output_type": "stream",
     "text": [
      "('hello', 'good morning')\n",
      "('hii', 'hello')\n",
      "('hii', 'hello', 'good morning', 'hii', 'hello', 'good morning')\n",
      "<class 'tuple'>\n"
     ]
    }
   ],
   "source": [
    "t=(\"hii\",\"hello\",\"good morning\")\n",
    "print(t[1:])\n",
    "print(t[0:2])\n",
    "print(t+t)\n",
    "print(type(t))                                                     #Tuple"
   ]
  },
  {
   "cell_type": "code",
   "execution_count": 20,
   "id": "b302886d",
   "metadata": {},
   "outputs": [
    {
     "name": "stdout",
     "output_type": "stream",
     "text": [
      "4\n",
      "3\n"
     ]
    }
   ],
   "source": [
    "t = (1, 2, 4, 5, 4, 1, 2,1 ,1)\n",
    "\n",
    "print(t.count(1))\n",
    "print(t.index(5))                                                              #tuple method"
   ]
  },
  {
   "cell_type": "code",
   "execution_count": 32,
   "id": "2e91d9de",
   "metadata": {},
   "outputs": [
    {
     "name": "stdout",
     "output_type": "stream",
     "text": [
      "1st name isshirya\n",
      "1st name isjiya\n",
      "dict_keys([1, 2, 3, 4])\n",
      "dict_values(['shirya', 'jiya', 'harvi', 'harvi'])\n"
     ]
    }
   ],
   "source": [
    " j={1:'shirya',2:'jiya',3:'harvi',4:'harvi'}\n",
    "print(\"1st name is\" +j[1])\n",
    "print(\"1st name is\" +j[2])\n",
    "print(j.keys())\n",
    "print(j.values())             #dictionary "
   ]
  },
  {
   "cell_type": "code",
   "execution_count": 43,
   "id": "68edece5",
   "metadata": {},
   "outputs": [
    {
     "name": "stdout",
     "output_type": "stream",
     "text": [
      "44\n"
     ]
    }
   ],
   "source": [
    "list1_set={11,22,33,44,55,66,77}\n",
    "print(list1_set[3]) "
   ]
  },
  {
   "cell_type": "markdown",
   "id": "636ea54f",
   "metadata": {},
   "source": [
    "# Conditional Expressions:)"
   ]
  },
  {
   "cell_type": "code",
   "execution_count": 23,
   "id": "3897f326",
   "metadata": {},
   "outputs": [
    {
     "name": "stdout",
     "output_type": "stream",
     "text": [
      "enter your no?22\n",
      "number is even\n"
     ]
    }
   ],
   "source": [
    "a=int(input(\"enter your no?\"))\n",
    "if a%2 ==0:\n",
    "    print(\"number is even\")"
   ]
  },
  {
   "cell_type": "code",
   "execution_count": 31,
   "id": "7ebf21ae",
   "metadata": {},
   "outputs": [
    {
     "name": "stdout",
     "output_type": "stream",
     "text": [
      "enter your age?34\n",
      "you are eligable to vote!!\n"
     ]
    }
   ],
   "source": [
    "age=int(input(\"enter your age?\"))\n",
    "if age>18:\n",
    "    print(\"you are eligable to vote!!\")\n",
    "else:\n",
    "    print(\"sorry!you have to wait!!!\") "
   ]
  },
  {
   "cell_type": "code",
   "execution_count": 7,
   "id": "bcee3961",
   "metadata": {},
   "outputs": [
    {
     "name": "stdout",
     "output_type": "stream",
     "text": [
      "Janvi  is present\n"
     ]
    }
   ],
   "source": [
    "name = 'Janvi'\n",
    "if name == 'Janvi':\n",
    "    \n",
    "    print(name, \" is present\")\n",
    "else:\n",
    "    print(name, \" is absent\")"
   ]
  },
  {
   "cell_type": "code",
   "execution_count": 1,
   "id": "fb047d42",
   "metadata": {},
   "outputs": [
    {
     "name": "stdout",
     "output_type": "stream",
     "text": [
      "Enter Your Marks\n",
      "99\n",
      "Your Grade is A+\n"
     ]
    }
   ],
   "source": [
    "#If--elif--else\n",
    "\n",
    "marks = int(input(\"Enter Your Marks\\n\"))\n",
    "\n",
    "if marks>=90:\n",
    "    grade = \"A+\"\n",
    "elif marks>=80:\n",
    "    grade = \"A\"\n",
    "elif marks>=70:\n",
    "    grade = \"B\"\n",
    "elif marks>=60:\n",
    "    grade = \"C\"\n",
    "elif marks>=50:\n",
    "    grade = \"D\" \n",
    "else:\n",
    "    grade = \"F\"\n",
    "print('Your Grade is ' +grade)"
   ]
  },
  {
   "cell_type": "code",
   "execution_count": 4,
   "id": "63a96dbe",
   "metadata": {},
   "outputs": [
    {
     "name": "stdout",
     "output_type": "stream",
     "text": [
      "enter your age55\n",
      "you are not allowed for Vaccines\n"
     ]
    }
   ],
   "source": [
    "age=int(input(\"enter your age\"))\n",
    "if(age>18 and age<45):\n",
    "    print(\"you are allowed Vaccines\")       #bane true hova joi and ma\n",
    "else:\n",
    "    print(\"you are not allowed for Vaccines\")\n",
    "    "
   ]
  },
  {
   "cell_type": "code",
   "execution_count": 4,
   "id": "94035952",
   "metadata": {},
   "outputs": [
    {
     "name": "stdout",
     "output_type": "stream",
     "text": [
      "Enter your number57\n",
      "you can work with us:\n"
     ]
    }
   ],
   "source": [
    "age=int(input(\"Enter your number\"))\n",
    "if(age>34 or age<56):                                             #logical and relation\n",
    "    print(\"you can work with us:\")\n",
    "else:\n",
    "     print(\"you cannot work with us:\")"
   ]
  },
  {
   "cell_type": "code",
   "execution_count": 13,
   "id": "9af8bae2",
   "metadata": {},
   "outputs": [
    {
     "name": "stdout",
     "output_type": "stream",
     "text": [
      "enter your first subject mark\n",
      "35\n",
      "enter your first subject mark\n",
      "36\n",
      "enter your first subject mark\n",
      "37\n",
      "enter are faile due to total persentage less then 40\n"
     ]
    }
   ],
   "source": [
    "sub1=int(input(\"enter your first subject mark\\n\"))\n",
    "sub2=int(input(\"enter your first subject mark\\n\"))\n",
    "sub3=int(input(\"enter your first subject mark\\n\"))\n",
    "\n",
    "if(sub1<33 or sub2<33 or sub3<33):\n",
    "    print(\"you are fail because you have less then 33% in one of the subject:\")\n",
    "    \n",
    "elif(sub1+sub2+sub3)/3 <40:\n",
    "    print(\"enter are faile due to total persentage less then 40\")\n",
    "else:\n",
    "    print(\"congrets y r passed\")"
   ]
  },
  {
   "cell_type": "code",
   "execution_count": 16,
   "id": "6bdbb836",
   "metadata": {},
   "outputs": [
    {
     "name": "stdout",
     "output_type": "stream",
     "text": [
      "enter the name to check\n",
      "yash\n",
      "your name is not a list\n"
     ]
    }
   ],
   "source": [
    "names=[\"janvi\",\"bansi\",\"harvi\",\"kishu\",\"shriya\"]\n",
    "name=input(\"enter the name to check\\n\")\n",
    "\n",
    "if name in names:\n",
    "    print(\"your name in list \")\n",
    "else:\n",
    "    print(\"your name is not a list\")"
   ]
  },
  {
   "cell_type": "code",
   "execution_count": null,
   "id": "2658c10d",
   "metadata": {},
   "outputs": [],
   "source": [
    "#gratest of four number by the user"
   ]
  },
  {
   "cell_type": "markdown",
   "id": "6313f4e5",
   "metadata": {},
   "source": [
    "# loop\n"
   ]
  },
  {
   "cell_type": "markdown",
   "id": "9e73ceb6",
   "metadata": {},
   "source": [
    "# i=1;\n",
    "while i<10:\n",
    "    print(i)\n",
    "    i=i+1\n",
    "                                  #while"
   ]
  },
  {
   "cell_type": "code",
   "execution_count": 30,
   "id": "9d1ea342",
   "metadata": {},
   "outputs": [
    {
     "name": "stdout",
     "output_type": "stream",
     "text": [
      "1\n",
      "2\n",
      "3\n",
      "4\n",
      "5\n",
      "6\n",
      "7\n",
      "8\n",
      "9\n",
      "10\n",
      "11\n",
      "12\n",
      "13\n",
      "14\n",
      "15\n",
      "16\n",
      "17\n",
      "18\n",
      "19\n",
      "20\n",
      "21\n",
      "22\n",
      "23\n",
      "24\n",
      "25\n",
      "26\n",
      "27\n",
      "28\n",
      "29\n",
      "30\n"
     ]
    }
   ],
   "source": [
    "i = 1\n",
    "\n",
    "while i<=30:\n",
    "    print(i)\n",
    "    i = i + 1\n"
   ]
  },
  {
   "cell_type": "code",
   "execution_count": 32,
   "id": "2c5137a5",
   "metadata": {},
   "outputs": [
    {
     "name": "stdout",
     "output_type": "stream",
     "text": [
      "banana\n",
      "apple\n",
      "grapes\n",
      "watermelon\n"
     ]
    }
   ],
   "source": [
    "fruit=['banana','apple','grapes','watermelon']\n",
    "i=0\n",
    "while i<len(fruit):\n",
    "    print(fruit[i])\n",
    "    i = i+1\n"
   ]
  },
  {
   "cell_type": "code",
   "execution_count": 4,
   "id": "92700720",
   "metadata": {},
   "outputs": [
    {
     "name": "stdout",
     "output_type": "stream",
     "text": [
      "1\n",
      "7\n",
      "8\n"
     ]
    }
   ],
   "source": [
    "l=[1,7,8]\n",
    "for item in l:\n",
    "    print(item)             "
   ]
  },
  {
   "cell_type": "code",
   "execution_count": null,
   "id": "a1c6bc88",
   "metadata": {},
   "outputs": [],
   "source": []
  },
  {
   "cell_type": "code",
   "execution_count": 9,
   "id": "161207c2",
   "metadata": {},
   "outputs": [
    {
     "name": "stdout",
     "output_type": "stream",
     "text": [
      "Dairymilk\n",
      "park\n",
      "kitkat\n"
     ]
    }
   ],
   "source": [
    "choco=[\"Dairymilk\",\"park\",\"kitkat\"]\n",
    "for janu in choco:\n",
    "    print(janu)\n"
   ]
  },
  {
   "cell_type": "code",
   "execution_count": 9,
   "id": "f901fd05",
   "metadata": {},
   "outputs": [
    {
     "name": "stdout",
     "output_type": "stream",
     "text": [
      "1\n",
      "2\n",
      "3\n",
      "4\n",
      "5\n",
      "6\n",
      "7\n"
     ]
    }
   ],
   "source": [
    "for i in range(1,8,1):\n",
    "    print(i)"
   ]
  },
  {
   "cell_type": "code",
   "execution_count": 16,
   "id": "4aa42c95",
   "metadata": {},
   "outputs": [
    {
     "name": "stdout",
     "output_type": "stream",
     "text": [
      "0\n",
      "1\n",
      "2\n",
      "3\n",
      "4\n",
      "5\n",
      "6\n",
      "7\n",
      "8\n",
      "9\n",
      "This is inside else of for\n"
     ]
    }
   ],
   "source": [
    "for i in range(10):\n",
    "    print(i)\n",
    "else:\n",
    "      print(\"This is inside else of for\")"
   ]
  },
  {
   "cell_type": "code",
   "execution_count": 35,
   "id": "d659bcb4",
   "metadata": {},
   "outputs": [
    {
     "name": "stdout",
     "output_type": "stream",
     "text": [
      "mango\n",
      "apple\n"
     ]
    }
   ],
   "source": [
    "fruit=[\"mango\",\"apple\",\"banana\",\"pinapple\"]\n",
    "for j in fruit:\n",
    "    if j==\"banana\":\n",
    "        break\n",
    "    print(j)"
   ]
  },
  {
   "cell_type": "code",
   "execution_count": 23,
   "id": "6bfd35a7",
   "metadata": {},
   "outputs": [
    {
     "name": "stdout",
     "output_type": "stream",
     "text": [
      "0\n",
      "1\n",
      "2\n",
      "3\n",
      "4\n",
      "5\n"
     ]
    }
   ],
   "source": [
    "for i in range(10):\n",
    "    print(i)\n",
    "    if i == 5:\n",
    "        break\n",
    "else:\n",
    "    print(\"This is inside else of for\")"
   ]
  },
  {
   "cell_type": "code",
   "execution_count": 19,
   "id": "b78f6776",
   "metadata": {},
   "outputs": [
    {
     "name": "stdout",
     "output_type": "stream",
     "text": [
      "0\n",
      "1\n",
      "2\n",
      "3\n",
      "4\n"
     ]
    }
   ],
   "source": [
    "for i in range(0,10):\n",
    "    print(i)               #break statement\n",
    "    if i==4:\n",
    "        break"
   ]
  },
  {
   "cell_type": "code",
   "execution_count": 1,
   "id": "53e63f5b",
   "metadata": {},
   "outputs": [
    {
     "name": "stdout",
     "output_type": "stream",
     "text": [
      "printing\n",
      "printing\n",
      "printing\n",
      "printing\n",
      "3\n"
     ]
    }
   ],
   "source": [
    "for i in range(4): \n",
    "    print('printing')\n",
    "    if i==2:\n",
    "        continue\n",
    "print(i)"
   ]
  },
  {
   "cell_type": "code",
   "execution_count": 26,
   "id": "ccfc5d7d",
   "metadata": {},
   "outputs": [
    {
     "name": "stdout",
     "output_type": "stream",
     "text": [
      "0\n",
      "1\n",
      "2\n",
      "3\n",
      "4\n",
      "6\n",
      "7\n",
      "8\n",
      "9\n"
     ]
    }
   ],
   "source": [
    "for i in range(10):\n",
    "    if i==5:\n",
    "        continue  \n",
    "    print(i)"
   ]
  },
  {
   "cell_type": "code",
   "execution_count": 40,
   "id": "6fee0621",
   "metadata": {},
   "outputs": [
    {
     "name": "stdout",
     "output_type": "stream",
     "text": [
      "999\n"
     ]
    }
   ],
   "source": [
    "l=[1,7,8,999]\n",
    "for item in l:\n",
    "    pass   \n",
    "    print(item)\n",
    "#pass  last element thay 6 han    haaaa"
   ]
  },
  {
   "cell_type": "code",
   "execution_count": 6,
   "id": "ffd5c352",
   "metadata": {},
   "outputs": [
    {
     "name": "stdout",
     "output_type": "stream",
     "text": [
      "enter your number6\n",
      "6X1=6\n",
      "6X2=12\n",
      "6X3=18\n",
      "6X4=24\n",
      "6X5=30\n",
      "6X6=36\n",
      "6X7=42\n",
      "6X8=48\n",
      "6X9=54\n",
      "6X10=60\n"
     ]
    }
   ],
   "source": [
    "num=int(input(\"enter your number\"))\n",
    "for i in range(1, 11):\n",
    "    # print(str(num) + \" X \" + str(i) + \"=\" + str(i*num))\n",
    "    print(f\"{num}X{i}={num*i}\") "
   ]
  },
  {
   "cell_type": "code",
   "execution_count": null,
   "id": "4c5d7671",
   "metadata": {},
   "outputs": [],
   "source": [
    "j=[\"janvi\",\"harvi\",\"shriya\",\"bansi\"]\n",
    "for name in j:\n",
    "    if name.Startwith(\"s\"):\n",
    "        print(\"hello\"+name)"
   ]
  },
  {
   "cell_type": "code",
   "execution_count": null,
   "id": "21d0ca16",
   "metadata": {},
   "outputs": [],
   "source": [
    "num=int(input(\"Enter your num\"))\n",
    "prime=true\n",
    "for num in range(2,num):\n",
    "        prime=false\n",
    "        break\n",
    "if prime:\n",
    "            print('this no is prime')\n",
    "else:\n",
    "            print('this no is not prime')"
   ]
  },
  {
   "cell_type": "markdown",
   "id": "e59012ff",
   "metadata": {},
   "source": [
    "#### n=4\n",
    "\n",
    "for  i in range (4):\n",
    "    print(\"*\" *(i+1))"
   ]
  },
  {
   "cell_type": "markdown",
   "id": "5613f9a9",
   "metadata": {},
   "source": [
    "# function"
   ]
  },
  {
   "cell_type": "code",
   "execution_count": 27,
   "id": "37efaf1c",
   "metadata": {},
   "outputs": [],
   "source": [
    "def test(a,b):\n",
    "        print(\"hello from a function\")   # create function"
   ]
  },
  {
   "cell_type": "code",
   "execution_count": 29,
   "id": "5f1836e9",
   "metadata": {},
   "outputs": [
    {
     "name": "stdout",
     "output_type": "stream",
     "text": [
      "hello from a function\n"
     ]
    }
   ],
   "source": [
    "def test():\n",
    "    print(\"hello from a function\")           #calling function/no argument no return value\n",
    "test()"
   ]
  },
  {
   "cell_type": "code",
   "execution_count": 30,
   "id": "3b55a131",
   "metadata": {},
   "outputs": [
    {
     "name": "stdout",
     "output_type": "stream",
     "text": [
      "addressjanvi\n",
      "cityjanvi\n",
      "emailjanvi\n"
     ]
    }
   ],
   "source": [
    "def test1(fname):\n",
    "    print(fname+\"janvi\")        #with parameter no return value\n",
    "test1(\"address\")\n",
    "test1(\"city\")\n",
    "test1(\"email\")"
   ]
  },
  {
   "cell_type": "code",
   "execution_count": 34,
   "id": "9dc082e9",
   "metadata": {},
   "outputs": [
    {
     "name": "stdout",
     "output_type": "stream",
     "text": [
      "i am fromsweden\n",
      "i am fromindia\n",
      "i am fromafrica\n",
      "i am frombrazil\n"
     ]
    }
   ],
   "source": [
    "def test2(country=\"africa\"):\n",
    "    print(\"i am from\"+country)\n",
    "test2(\"sweden\")\n",
    "test2(\"india\")\n",
    "test2()                           #default parameter\n",
    "test2(\"brazil\")"
   ]
  },
  {
   "cell_type": "code",
   "execution_count": 1,
   "id": "a0836637",
   "metadata": {},
   "outputs": [],
   "source": [
    "def test3(j):\n",
    "    return 5*x\n",
    "    print(test3(3))\n",
    "    print(test3(5))\n",
    "    print(test3(9))"
   ]
  },
  {
   "cell_type": "code",
   "execution_count": 2,
   "id": "f5a5af8d",
   "metadata": {},
   "outputs": [
    {
     "name": "stdout",
     "output_type": "stream",
     "text": [
      "the value is maximum is44\n"
     ]
    }
   ],
   "source": [
    "def maximum(num1,num2,num3):\n",
    "    if num1>num2:\n",
    "        if num2>num3:\n",
    "            return num1\n",
    "        else:\n",
    "            return num3\n",
    "            if num2>num3:\n",
    "                return num2\n",
    "            else:            \n",
    "                return num3\n",
    "                \n",
    "l=maximum(13,3,44)\n",
    "print(\"the value is maximum is\"+str(l))\n",
    "            "
   ]
  },
  {
   "cell_type": "markdown",
   "id": "40c1702a",
   "metadata": {},
   "source": [
    "___File Io___"
   ]
  },
  {
   "cell_type": "code",
   "execution_count": 6,
   "id": "3e57e882",
   "metadata": {},
   "outputs": [
    {
     "name": "stdout",
     "output_type": "stream",
     "text": [
      "1\n",
      "2\n",
      "3\n"
     ]
    }
   ],
   "source": [
    "i = 1\n",
    "while i < 6:\n",
    "  print(i)\n",
    "  if i == 3:\n",
    "    break\n",
    "  i=i+1\n"
   ]
  }
 ],
 "metadata": {
  "kernelspec": {
   "display_name": "Python 3",
   "language": "python",
   "name": "python3"
  },
  "language_info": {
   "codemirror_mode": {
    "name": "ipython",
    "version": 3
   },
   "file_extension": ".py",
   "mimetype": "text/x-python",
   "name": "python",
   "nbconvert_exporter": "python",
   "pygments_lexer": "ipython3",
   "version": "3.9.4"
  }
 },
 "nbformat": 4,
 "nbformat_minor": 5
}
